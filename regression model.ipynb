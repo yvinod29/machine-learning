{
 "cells": [
  {
   "cell_type": "code",
   "execution_count": 2,
   "id": "fc1cabce",
   "metadata": {},
   "outputs": [],
   "source": [
    "import pandas as pd\n",
    "import numpy as np\n",
    "import matplotlib.pyplot as plt"
   ]
  },
  {
   "cell_type": "code",
   "execution_count": 3,
   "id": "fd1d04b5",
   "metadata": {},
   "outputs": [],
   "source": [
    "data=pd.read_csv('big_mart_sales.csv')"
   ]
  },
  {
   "cell_type": "code",
   "execution_count": 4,
   "id": "5f8cf6de",
   "metadata": {},
   "outputs": [
    {
     "data": {
      "text/plain": [
       "(8523, 12)"
      ]
     },
     "execution_count": 4,
     "metadata": {},
     "output_type": "execute_result"
    }
   ],
   "source": [
    "data.shape\n"
   ]
  },
  {
   "cell_type": "code",
   "execution_count": 5,
   "id": "fe312aa6",
   "metadata": {},
   "outputs": [],
   "source": [
    "from sklearn.utils import shuffle \n",
    "data=shuffle(data,random_state=42)\n",
    "div =int(data.shape[0]/4)\n",
    "train=data.loc[:3*div+1,:]\n",
    "test=data.loc[3*div+1:]"
   ]
  },
  {
   "cell_type": "code",
   "execution_count": 7,
   "id": "c8967724",
   "metadata": {},
   "outputs": [
    {
     "name": "stderr",
     "output_type": "stream",
     "text": [
      "C:\\Users\\Vinnusss\\AppData\\Local\\Temp\\ipykernel_22648\\2920344516.py:1: SettingWithCopyWarning: \n",
      "A value is trying to be set on a copy of a slice from a DataFrame.\n",
      "Try using .loc[row_indexer,col_indexer] = value instead\n",
      "\n",
      "See the caveats in the documentation: https://pandas.pydata.org/pandas-docs/stable/user_guide/indexing.html#returning-a-view-versus-a-copy\n",
      "  test['simple_mean']=train['Item_Outlet_Sales'].mean()\n"
     ]
    }
   ],
   "source": [
    "test['simple_mean']=train['Item_Outlet_Sales'].mean()"
   ]
  },
  {
   "cell_type": "code",
   "execution_count": 9,
   "id": "1b03c199",
   "metadata": {},
   "outputs": [
    {
     "data": {
      "text/plain": [
       "1355.4481105570344"
      ]
     },
     "execution_count": 9,
     "metadata": {},
     "output_type": "execute_result"
    }
   ],
   "source": [
    "from sklearn.metrics import mean_absolute_error as MAE\n",
    " \n",
    "simple_mean_error=MAE(test['Item_Outlet_Sales'],test[\"simple_mean\"])\n",
    "simple_mean_error"
   ]
  },
  {
   "cell_type": "code",
   "execution_count": 13,
   "id": "3a9c942b",
   "metadata": {},
   "outputs": [
    {
     "data": {
      "text/html": [
       "<div>\n",
       "<style scoped>\n",
       "    .dataframe tbody tr th:only-of-type {\n",
       "        vertical-align: middle;\n",
       "    }\n",
       "\n",
       "    .dataframe tbody tr th {\n",
       "        vertical-align: top;\n",
       "    }\n",
       "\n",
       "    .dataframe thead th {\n",
       "        text-align: right;\n",
       "    }\n",
       "</style>\n",
       "<table border=\"1\" class=\"dataframe\">\n",
       "  <thead>\n",
       "    <tr style=\"text-align: right;\">\n",
       "      <th></th>\n",
       "      <th>Item_Outlet_Sales</th>\n",
       "    </tr>\n",
       "    <tr>\n",
       "      <th>Outlet_Type</th>\n",
       "      <th></th>\n",
       "    </tr>\n",
       "  </thead>\n",
       "  <tbody>\n",
       "    <tr>\n",
       "      <th>Grocery Store</th>\n",
       "      <td>332.606025</td>\n",
       "    </tr>\n",
       "    <tr>\n",
       "      <th>Supermarket Type1</th>\n",
       "      <td>2245.228499</td>\n",
       "    </tr>\n",
       "    <tr>\n",
       "      <th>Supermarket Type2</th>\n",
       "      <td>1938.684847</td>\n",
       "    </tr>\n",
       "    <tr>\n",
       "      <th>Supermarket Type3</th>\n",
       "      <td>3776.185098</td>\n",
       "    </tr>\n",
       "  </tbody>\n",
       "</table>\n",
       "</div>"
      ],
      "text/plain": [
       "                   Item_Outlet_Sales\n",
       "Outlet_Type                         \n",
       "Grocery Store             332.606025\n",
       "Supermarket Type1        2245.228499\n",
       "Supermarket Type2        1938.684847\n",
       "Supermarket Type3        3776.185098"
      ]
     },
     "execution_count": 13,
     "metadata": {},
     "output_type": "execute_result"
    }
   ],
   "source": [
    "out_type =pd.pivot_table(train,values='Item_Outlet_Sales',index='Outlet_Type')\n",
    "out_type"
   ]
  },
  {
   "cell_type": "code",
   "execution_count": 19,
   "id": "e2c70258",
   "metadata": {},
   "outputs": [
    {
     "name": "stderr",
     "output_type": "stream",
     "text": [
      "C:\\Users\\Vinnusss\\AppData\\Local\\Temp\\ipykernel_22648\\1626033748.py:1: SettingWithCopyWarning: \n",
      "A value is trying to be set on a copy of a slice from a DataFrame.\n",
      "Try using .loc[row_indexer,col_indexer] = value instead\n",
      "\n",
      "See the caveats in the documentation: https://pandas.pydata.org/pandas-docs/stable/user_guide/indexing.html#returning-a-view-versus-a-copy\n",
      "  test['out_type_mean']=0\n",
      "C:\\Users\\Vinnusss\\AppData\\Local\\Temp\\ipykernel_22648\\1626033748.py:3: SettingWithCopyWarning: \n",
      "A value is trying to be set on a copy of a slice from a DataFrame\n",
      "\n",
      "See the caveats in the documentation: https://pandas.pydata.org/pandas-docs/stable/user_guide/indexing.html#returning-a-view-versus-a-copy\n",
      "  test['out_type_mean'][test['Outlet_Type'] == str(i)] = train['Item_Outlet_Sales'][train['Outlet_Type'] == str(i)].mean()\n",
      "C:\\Users\\Vinnusss\\AppData\\Local\\Temp\\ipykernel_22648\\1626033748.py:3: SettingWithCopyWarning: \n",
      "A value is trying to be set on a copy of a slice from a DataFrame\n",
      "\n",
      "See the caveats in the documentation: https://pandas.pydata.org/pandas-docs/stable/user_guide/indexing.html#returning-a-view-versus-a-copy\n",
      "  test['out_type_mean'][test['Outlet_Type'] == str(i)] = train['Item_Outlet_Sales'][train['Outlet_Type'] == str(i)].mean()\n",
      "C:\\Users\\Vinnusss\\AppData\\Local\\Temp\\ipykernel_22648\\1626033748.py:3: SettingWithCopyWarning: \n",
      "A value is trying to be set on a copy of a slice from a DataFrame\n",
      "\n",
      "See the caveats in the documentation: https://pandas.pydata.org/pandas-docs/stable/user_guide/indexing.html#returning-a-view-versus-a-copy\n",
      "  test['out_type_mean'][test['Outlet_Type'] == str(i)] = train['Item_Outlet_Sales'][train['Outlet_Type'] == str(i)].mean()\n",
      "C:\\Users\\Vinnusss\\AppData\\Local\\Temp\\ipykernel_22648\\1626033748.py:3: SettingWithCopyWarning: \n",
      "A value is trying to be set on a copy of a slice from a DataFrame\n",
      "\n",
      "See the caveats in the documentation: https://pandas.pydata.org/pandas-docs/stable/user_guide/indexing.html#returning-a-view-versus-a-copy\n",
      "  test['out_type_mean'][test['Outlet_Type'] == str(i)] = train['Item_Outlet_Sales'][train['Outlet_Type'] == str(i)].mean()\n",
      "C:\\Users\\Vinnusss\\AppData\\Local\\Temp\\ipykernel_22648\\1626033748.py:3: SettingWithCopyWarning: \n",
      "A value is trying to be set on a copy of a slice from a DataFrame\n",
      "\n",
      "See the caveats in the documentation: https://pandas.pydata.org/pandas-docs/stable/user_guide/indexing.html#returning-a-view-versus-a-copy\n",
      "  test['out_type_mean'][test['Outlet_Type'] == str(i)] = train['Item_Outlet_Sales'][train['Outlet_Type'] == str(i)].mean()\n"
     ]
    }
   ],
   "source": [
    "test['out_type_mean']=0\n",
    "for i in train['Outlet_Type'].unique():\n",
    "        test['out_type_mean'][test['Outlet_Type'] == str(i)] = train['Item_Outlet_Sales'][train['Outlet_Type'] == str(i)].mean()"
   ]
  },
  {
   "cell_type": "code",
   "execution_count": 20,
   "id": "7b7cc47e",
   "metadata": {},
   "outputs": [
    {
     "data": {
      "text/plain": [
       "1138.8026221064356"
      ]
     },
     "execution_count": 20,
     "metadata": {},
     "output_type": "execute_result"
    }
   ],
   "source": [
    "MAE(test['out_type_mean'],test['Item_Outlet_Sales'])"
   ]
  },
  {
   "cell_type": "code",
   "execution_count": 22,
   "id": "24fc433d",
   "metadata": {},
   "outputs": [
    {
     "data": {
      "text/html": [
       "<div>\n",
       "<style scoped>\n",
       "    .dataframe tbody tr th:only-of-type {\n",
       "        vertical-align: middle;\n",
       "    }\n",
       "\n",
       "    .dataframe tbody tr th {\n",
       "        vertical-align: top;\n",
       "    }\n",
       "\n",
       "    .dataframe thead th {\n",
       "        text-align: right;\n",
       "    }\n",
       "</style>\n",
       "<table border=\"1\" class=\"dataframe\">\n",
       "  <thead>\n",
       "    <tr style=\"text-align: right;\">\n",
       "      <th></th>\n",
       "      <th>Item_Outlet_Sales</th>\n",
       "    </tr>\n",
       "    <tr>\n",
       "      <th>Outlet_Location_Type</th>\n",
       "      <th></th>\n",
       "    </tr>\n",
       "  </thead>\n",
       "  <tbody>\n",
       "    <tr>\n",
       "      <th>Tier 1</th>\n",
       "      <td>1804.051997</td>\n",
       "    </tr>\n",
       "    <tr>\n",
       "      <th>Tier 2</th>\n",
       "      <td>2288.475485</td>\n",
       "    </tr>\n",
       "    <tr>\n",
       "      <th>Tier 3</th>\n",
       "      <td>2255.793325</td>\n",
       "    </tr>\n",
       "  </tbody>\n",
       "</table>\n",
       "</div>"
      ],
      "text/plain": [
       "                      Item_Outlet_Sales\n",
       "Outlet_Location_Type                   \n",
       "Tier 1                      1804.051997\n",
       "Tier 2                      2288.475485\n",
       "Tier 3                      2255.793325"
      ]
     },
     "execution_count": 22,
     "metadata": {},
     "output_type": "execute_result"
    }
   ],
   "source": [
    "out_loc_type=pd.pivot_table(train,values=['Item_Outlet_Sales'],index=['Outlet_Location_Type'])\n",
    "out_loc_type"
   ]
  },
  {
   "cell_type": "code",
   "execution_count": 23,
   "id": "49a08d49",
   "metadata": {},
   "outputs": [
    {
     "name": "stderr",
     "output_type": "stream",
     "text": [
      "C:\\Users\\Vinnusss\\AppData\\Local\\Temp\\ipykernel_22648\\426923991.py:1: SettingWithCopyWarning: \n",
      "A value is trying to be set on a copy of a slice from a DataFrame.\n",
      "Try using .loc[row_indexer,col_indexer] = value instead\n",
      "\n",
      "See the caveats in the documentation: https://pandas.pydata.org/pandas-docs/stable/user_guide/indexing.html#returning-a-view-versus-a-copy\n",
      "  test['out_loc_mean']=0\n",
      "C:\\Users\\Vinnusss\\AppData\\Local\\Temp\\ipykernel_22648\\426923991.py:3: SettingWithCopyWarning: \n",
      "A value is trying to be set on a copy of a slice from a DataFrame\n",
      "\n",
      "See the caveats in the documentation: https://pandas.pydata.org/pandas-docs/stable/user_guide/indexing.html#returning-a-view-versus-a-copy\n",
      "  test['out_loc_mean'][test['Outlet_Location_Type']==str(i)]=train['Item_Outlet_Sales'][train['Outlet_Location_Type']==str(i)].mean()\n",
      "C:\\Users\\Vinnusss\\AppData\\Local\\Temp\\ipykernel_22648\\426923991.py:3: SettingWithCopyWarning: \n",
      "A value is trying to be set on a copy of a slice from a DataFrame\n",
      "\n",
      "See the caveats in the documentation: https://pandas.pydata.org/pandas-docs/stable/user_guide/indexing.html#returning-a-view-versus-a-copy\n",
      "  test['out_loc_mean'][test['Outlet_Location_Type']==str(i)]=train['Item_Outlet_Sales'][train['Outlet_Location_Type']==str(i)].mean()\n",
      "C:\\Users\\Vinnusss\\AppData\\Local\\Temp\\ipykernel_22648\\426923991.py:3: SettingWithCopyWarning: \n",
      "A value is trying to be set on a copy of a slice from a DataFrame\n",
      "\n",
      "See the caveats in the documentation: https://pandas.pydata.org/pandas-docs/stable/user_guide/indexing.html#returning-a-view-versus-a-copy\n",
      "  test['out_loc_mean'][test['Outlet_Location_Type']==str(i)]=train['Item_Outlet_Sales'][train['Outlet_Location_Type']==str(i)].mean()\n",
      "C:\\Users\\Vinnusss\\AppData\\Local\\Temp\\ipykernel_22648\\426923991.py:3: SettingWithCopyWarning: \n",
      "A value is trying to be set on a copy of a slice from a DataFrame\n",
      "\n",
      "See the caveats in the documentation: https://pandas.pydata.org/pandas-docs/stable/user_guide/indexing.html#returning-a-view-versus-a-copy\n",
      "  test['out_loc_mean'][test['Outlet_Location_Type']==str(i)]=train['Item_Outlet_Sales'][train['Outlet_Location_Type']==str(i)].mean()\n"
     ]
    }
   ],
   "source": [
    "test['out_loc_mean']=0\n",
    "for i in test['Outlet_Location_Type'].unique():\n",
    "    test['out_loc_mean'][test['Outlet_Location_Type']==str(i)]=train['Item_Outlet_Sales'][train['Outlet_Location_Type']==str(i)].mean()"
   ]
  },
  {
   "cell_type": "code",
   "execution_count": 24,
   "id": "0d435972",
   "metadata": {},
   "outputs": [
    {
     "data": {
      "text/plain": [
       "1348.8509267072286"
      ]
     },
     "execution_count": 24,
     "metadata": {},
     "output_type": "execute_result"
    }
   ],
   "source": [
    "MAE(test['out_loc_mean'],test['Item_Outlet_Sales'])"
   ]
  },
  {
   "cell_type": "code",
   "execution_count": 49,
   "id": "31fe45c8",
   "metadata": {},
   "outputs": [
    {
     "name": "stderr",
     "output_type": "stream",
     "text": [
      "C:\\Users\\Vinnusss\\AppData\\Local\\Temp\\ipykernel_22648\\2461645370.py:3: SettingWithCopyWarning: \n",
      "A value is trying to be set on a copy of a slice from a DataFrame.\n",
      "Try using .loc[row_indexer,col_indexer] = value instead\n",
      "\n",
      "See the caveats in the documentation: https://pandas.pydata.org/pandas-docs/stable/user_guide/indexing.html#returning-a-view-versus-a-copy\n",
      "  test['out_loc_type_mean']=0\n"
     ]
    },
    {
     "data": {
      "text/html": [
       "<div>\n",
       "<style scoped>\n",
       "    .dataframe tbody tr th:only-of-type {\n",
       "        vertical-align: middle;\n",
       "    }\n",
       "\n",
       "    .dataframe tbody tr th {\n",
       "        vertical-align: top;\n",
       "    }\n",
       "\n",
       "    .dataframe thead th {\n",
       "        text-align: right;\n",
       "    }\n",
       "</style>\n",
       "<table border=\"1\" class=\"dataframe\">\n",
       "  <thead>\n",
       "    <tr style=\"text-align: right;\">\n",
       "      <th></th>\n",
       "      <th></th>\n",
       "      <th>Item_Outlet_Sales</th>\n",
       "    </tr>\n",
       "    <tr>\n",
       "      <th>Outlet_Location_Type</th>\n",
       "      <th>Outlet_Establishment_Year</th>\n",
       "      <th></th>\n",
       "    </tr>\n",
       "  </thead>\n",
       "  <tbody>\n",
       "    <tr>\n",
       "      <th rowspan=\"3\" valign=\"top\">Tier 1</th>\n",
       "      <th>1985</th>\n",
       "      <td>344.882031</td>\n",
       "    </tr>\n",
       "    <tr>\n",
       "      <th>1997</th>\n",
       "      <td>2200.803276</td>\n",
       "    </tr>\n",
       "    <tr>\n",
       "      <th>1999</th>\n",
       "      <td>2245.345807</td>\n",
       "    </tr>\n",
       "    <tr>\n",
       "      <th rowspan=\"3\" valign=\"top\">Tier 2</th>\n",
       "      <th>2002</th>\n",
       "      <td>2136.727766</td>\n",
       "    </tr>\n",
       "    <tr>\n",
       "      <th>2004</th>\n",
       "      <td>2415.594646</td>\n",
       "    </tr>\n",
       "    <tr>\n",
       "      <th>2007</th>\n",
       "      <td>2320.598343</td>\n",
       "    </tr>\n",
       "    <tr>\n",
       "      <th rowspan=\"4\" valign=\"top\">Tier 3</th>\n",
       "      <th>1985</th>\n",
       "      <td>3776.185098</td>\n",
       "    </tr>\n",
       "    <tr>\n",
       "      <th>1987</th>\n",
       "      <td>2160.883029</td>\n",
       "    </tr>\n",
       "    <tr>\n",
       "      <th>1998</th>\n",
       "      <td>320.792473</td>\n",
       "    </tr>\n",
       "    <tr>\n",
       "      <th>2009</th>\n",
       "      <td>1938.684847</td>\n",
       "    </tr>\n",
       "  </tbody>\n",
       "</table>\n",
       "</div>"
      ],
      "text/plain": [
       "                                                Item_Outlet_Sales\n",
       "Outlet_Location_Type Outlet_Establishment_Year                   \n",
       "Tier 1               1985                              344.882031\n",
       "                     1997                             2200.803276\n",
       "                     1999                             2245.345807\n",
       "Tier 2               2002                             2136.727766\n",
       "                     2004                             2415.594646\n",
       "                     2007                             2320.598343\n",
       "Tier 3               1985                             3776.185098\n",
       "                     1987                             2160.883029\n",
       "                     1998                              320.792473\n",
       "                     2009                             1938.684847"
      ]
     },
     "execution_count": 49,
     "metadata": {},
     "output_type": "execute_result"
    }
   ],
   "source": [
    "a1='Outlet_Location_Type'\n",
    "a2='Outlet_Establishment_Year'\n",
    "test['out_loc_type_mean']=0\n",
    "out_loc_type_mean=pd.pivot_table(train,values=['Item_Outlet_Sales'],index=[a1,a2])\n",
    "out_loc_type_mean"
   ]
  },
  {
   "cell_type": "code",
   "execution_count": 57,
   "id": "2181f44b",
   "metadata": {},
   "outputs": [
    {
     "name": "stderr",
     "output_type": "stream",
     "text": [
      "C:\\Users\\Vinnusss\\AppData\\Local\\Temp\\ipykernel_22648\\2737074418.py:3: SettingWithCopyWarning: \n",
      "A value is trying to be set on a copy of a slice from a DataFrame\n",
      "\n",
      "See the caveats in the documentation: https://pandas.pydata.org/pandas-docs/stable/user_guide/indexing.html#returning-a-view-versus-a-copy\n",
      "  test['out_loc_type_mean'][(test[a2] ==i) & (test[a1]==str(j))] = train['Item_Outlet_Sales'][(train[a2] == i) & (train[a1]==str(j))].mean()\n",
      "C:\\Users\\Vinnusss\\AppData\\Local\\Temp\\ipykernel_22648\\2737074418.py:3: SettingWithCopyWarning: \n",
      "A value is trying to be set on a copy of a slice from a DataFrame\n",
      "\n",
      "See the caveats in the documentation: https://pandas.pydata.org/pandas-docs/stable/user_guide/indexing.html#returning-a-view-versus-a-copy\n",
      "  test['out_loc_type_mean'][(test[a2] ==i) & (test[a1]==str(j))] = train['Item_Outlet_Sales'][(train[a2] == i) & (train[a1]==str(j))].mean()\n",
      "C:\\Users\\Vinnusss\\AppData\\Local\\Temp\\ipykernel_22648\\2737074418.py:3: SettingWithCopyWarning: \n",
      "A value is trying to be set on a copy of a slice from a DataFrame\n",
      "\n",
      "See the caveats in the documentation: https://pandas.pydata.org/pandas-docs/stable/user_guide/indexing.html#returning-a-view-versus-a-copy\n",
      "  test['out_loc_type_mean'][(test[a2] ==i) & (test[a1]==str(j))] = train['Item_Outlet_Sales'][(train[a2] == i) & (train[a1]==str(j))].mean()\n",
      "C:\\Users\\Vinnusss\\AppData\\Local\\Temp\\ipykernel_22648\\2737074418.py:3: SettingWithCopyWarning: \n",
      "A value is trying to be set on a copy of a slice from a DataFrame\n",
      "\n",
      "See the caveats in the documentation: https://pandas.pydata.org/pandas-docs/stable/user_guide/indexing.html#returning-a-view-versus-a-copy\n",
      "  test['out_loc_type_mean'][(test[a2] ==i) & (test[a1]==str(j))] = train['Item_Outlet_Sales'][(train[a2] == i) & (train[a1]==str(j))].mean()\n",
      "C:\\Users\\Vinnusss\\AppData\\Local\\Temp\\ipykernel_22648\\2737074418.py:3: SettingWithCopyWarning: \n",
      "A value is trying to be set on a copy of a slice from a DataFrame\n",
      "\n",
      "See the caveats in the documentation: https://pandas.pydata.org/pandas-docs/stable/user_guide/indexing.html#returning-a-view-versus-a-copy\n",
      "  test['out_loc_type_mean'][(test[a2] ==i) & (test[a1]==str(j))] = train['Item_Outlet_Sales'][(train[a2] == i) & (train[a1]==str(j))].mean()\n",
      "C:\\Users\\Vinnusss\\AppData\\Local\\Temp\\ipykernel_22648\\2737074418.py:3: SettingWithCopyWarning: \n",
      "A value is trying to be set on a copy of a slice from a DataFrame\n",
      "\n",
      "See the caveats in the documentation: https://pandas.pydata.org/pandas-docs/stable/user_guide/indexing.html#returning-a-view-versus-a-copy\n",
      "  test['out_loc_type_mean'][(test[a2] ==i) & (test[a1]==str(j))] = train['Item_Outlet_Sales'][(train[a2] == i) & (train[a1]==str(j))].mean()\n",
      "C:\\Users\\Vinnusss\\AppData\\Local\\Temp\\ipykernel_22648\\2737074418.py:3: SettingWithCopyWarning: \n",
      "A value is trying to be set on a copy of a slice from a DataFrame\n",
      "\n",
      "See the caveats in the documentation: https://pandas.pydata.org/pandas-docs/stable/user_guide/indexing.html#returning-a-view-versus-a-copy\n",
      "  test['out_loc_type_mean'][(test[a2] ==i) & (test[a1]==str(j))] = train['Item_Outlet_Sales'][(train[a2] == i) & (train[a1]==str(j))].mean()\n",
      "C:\\Users\\Vinnusss\\AppData\\Local\\Temp\\ipykernel_22648\\2737074418.py:3: SettingWithCopyWarning: \n",
      "A value is trying to be set on a copy of a slice from a DataFrame\n",
      "\n",
      "See the caveats in the documentation: https://pandas.pydata.org/pandas-docs/stable/user_guide/indexing.html#returning-a-view-versus-a-copy\n",
      "  test['out_loc_type_mean'][(test[a2] ==i) & (test[a1]==str(j))] = train['Item_Outlet_Sales'][(train[a2] == i) & (train[a1]==str(j))].mean()\n",
      "C:\\Users\\Vinnusss\\AppData\\Local\\Temp\\ipykernel_22648\\2737074418.py:3: SettingWithCopyWarning: \n",
      "A value is trying to be set on a copy of a slice from a DataFrame\n",
      "\n",
      "See the caveats in the documentation: https://pandas.pydata.org/pandas-docs/stable/user_guide/indexing.html#returning-a-view-versus-a-copy\n",
      "  test['out_loc_type_mean'][(test[a2] ==i) & (test[a1]==str(j))] = train['Item_Outlet_Sales'][(train[a2] == i) & (train[a1]==str(j))].mean()\n",
      "C:\\Users\\Vinnusss\\AppData\\Local\\Temp\\ipykernel_22648\\2737074418.py:3: SettingWithCopyWarning: \n",
      "A value is trying to be set on a copy of a slice from a DataFrame\n",
      "\n",
      "See the caveats in the documentation: https://pandas.pydata.org/pandas-docs/stable/user_guide/indexing.html#returning-a-view-versus-a-copy\n",
      "  test['out_loc_type_mean'][(test[a2] ==i) & (test[a1]==str(j))] = train['Item_Outlet_Sales'][(train[a2] == i) & (train[a1]==str(j))].mean()\n",
      "C:\\Users\\Vinnusss\\AppData\\Local\\Temp\\ipykernel_22648\\2737074418.py:3: SettingWithCopyWarning: \n",
      "A value is trying to be set on a copy of a slice from a DataFrame\n",
      "\n",
      "See the caveats in the documentation: https://pandas.pydata.org/pandas-docs/stable/user_guide/indexing.html#returning-a-view-versus-a-copy\n",
      "  test['out_loc_type_mean'][(test[a2] ==i) & (test[a1]==str(j))] = train['Item_Outlet_Sales'][(train[a2] == i) & (train[a1]==str(j))].mean()\n",
      "C:\\Users\\Vinnusss\\AppData\\Local\\Temp\\ipykernel_22648\\2737074418.py:3: SettingWithCopyWarning: \n",
      "A value is trying to be set on a copy of a slice from a DataFrame\n",
      "\n",
      "See the caveats in the documentation: https://pandas.pydata.org/pandas-docs/stable/user_guide/indexing.html#returning-a-view-versus-a-copy\n",
      "  test['out_loc_type_mean'][(test[a2] ==i) & (test[a1]==str(j))] = train['Item_Outlet_Sales'][(train[a2] == i) & (train[a1]==str(j))].mean()\n",
      "C:\\Users\\Vinnusss\\AppData\\Local\\Temp\\ipykernel_22648\\2737074418.py:3: SettingWithCopyWarning: \n",
      "A value is trying to be set on a copy of a slice from a DataFrame\n",
      "\n",
      "See the caveats in the documentation: https://pandas.pydata.org/pandas-docs/stable/user_guide/indexing.html#returning-a-view-versus-a-copy\n",
      "  test['out_loc_type_mean'][(test[a2] ==i) & (test[a1]==str(j))] = train['Item_Outlet_Sales'][(train[a2] == i) & (train[a1]==str(j))].mean()\n",
      "C:\\Users\\Vinnusss\\AppData\\Local\\Temp\\ipykernel_22648\\2737074418.py:3: SettingWithCopyWarning: \n",
      "A value is trying to be set on a copy of a slice from a DataFrame\n",
      "\n",
      "See the caveats in the documentation: https://pandas.pydata.org/pandas-docs/stable/user_guide/indexing.html#returning-a-view-versus-a-copy\n",
      "  test['out_loc_type_mean'][(test[a2] ==i) & (test[a1]==str(j))] = train['Item_Outlet_Sales'][(train[a2] == i) & (train[a1]==str(j))].mean()\n",
      "C:\\Users\\Vinnusss\\AppData\\Local\\Temp\\ipykernel_22648\\2737074418.py:3: SettingWithCopyWarning: \n",
      "A value is trying to be set on a copy of a slice from a DataFrame\n",
      "\n",
      "See the caveats in the documentation: https://pandas.pydata.org/pandas-docs/stable/user_guide/indexing.html#returning-a-view-versus-a-copy\n",
      "  test['out_loc_type_mean'][(test[a2] ==i) & (test[a1]==str(j))] = train['Item_Outlet_Sales'][(train[a2] == i) & (train[a1]==str(j))].mean()\n",
      "C:\\Users\\Vinnusss\\AppData\\Local\\Temp\\ipykernel_22648\\2737074418.py:3: SettingWithCopyWarning: \n",
      "A value is trying to be set on a copy of a slice from a DataFrame\n",
      "\n",
      "See the caveats in the documentation: https://pandas.pydata.org/pandas-docs/stable/user_guide/indexing.html#returning-a-view-versus-a-copy\n",
      "  test['out_loc_type_mean'][(test[a2] ==i) & (test[a1]==str(j))] = train['Item_Outlet_Sales'][(train[a2] == i) & (train[a1]==str(j))].mean()\n",
      "C:\\Users\\Vinnusss\\AppData\\Local\\Temp\\ipykernel_22648\\2737074418.py:3: SettingWithCopyWarning: \n",
      "A value is trying to be set on a copy of a slice from a DataFrame\n",
      "\n",
      "See the caveats in the documentation: https://pandas.pydata.org/pandas-docs/stable/user_guide/indexing.html#returning-a-view-versus-a-copy\n",
      "  test['out_loc_type_mean'][(test[a2] ==i) & (test[a1]==str(j))] = train['Item_Outlet_Sales'][(train[a2] == i) & (train[a1]==str(j))].mean()\n",
      "C:\\Users\\Vinnusss\\AppData\\Local\\Temp\\ipykernel_22648\\2737074418.py:3: SettingWithCopyWarning: \n",
      "A value is trying to be set on a copy of a slice from a DataFrame\n",
      "\n",
      "See the caveats in the documentation: https://pandas.pydata.org/pandas-docs/stable/user_guide/indexing.html#returning-a-view-versus-a-copy\n",
      "  test['out_loc_type_mean'][(test[a2] ==i) & (test[a1]==str(j))] = train['Item_Outlet_Sales'][(train[a2] == i) & (train[a1]==str(j))].mean()\n",
      "C:\\Users\\Vinnusss\\AppData\\Local\\Temp\\ipykernel_22648\\2737074418.py:3: SettingWithCopyWarning: \n",
      "A value is trying to be set on a copy of a slice from a DataFrame\n",
      "\n",
      "See the caveats in the documentation: https://pandas.pydata.org/pandas-docs/stable/user_guide/indexing.html#returning-a-view-versus-a-copy\n",
      "  test['out_loc_type_mean'][(test[a2] ==i) & (test[a1]==str(j))] = train['Item_Outlet_Sales'][(train[a2] == i) & (train[a1]==str(j))].mean()\n",
      "C:\\Users\\Vinnusss\\AppData\\Local\\Temp\\ipykernel_22648\\2737074418.py:3: SettingWithCopyWarning: \n",
      "A value is trying to be set on a copy of a slice from a DataFrame\n",
      "\n",
      "See the caveats in the documentation: https://pandas.pydata.org/pandas-docs/stable/user_guide/indexing.html#returning-a-view-versus-a-copy\n",
      "  test['out_loc_type_mean'][(test[a2] ==i) & (test[a1]==str(j))] = train['Item_Outlet_Sales'][(train[a2] == i) & (train[a1]==str(j))].mean()\n",
      "C:\\Users\\Vinnusss\\AppData\\Local\\Temp\\ipykernel_22648\\2737074418.py:3: SettingWithCopyWarning: \n",
      "A value is trying to be set on a copy of a slice from a DataFrame\n",
      "\n",
      "See the caveats in the documentation: https://pandas.pydata.org/pandas-docs/stable/user_guide/indexing.html#returning-a-view-versus-a-copy\n",
      "  test['out_loc_type_mean'][(test[a2] ==i) & (test[a1]==str(j))] = train['Item_Outlet_Sales'][(train[a2] == i) & (train[a1]==str(j))].mean()\n",
      "C:\\Users\\Vinnusss\\AppData\\Local\\Temp\\ipykernel_22648\\2737074418.py:3: SettingWithCopyWarning: \n",
      "A value is trying to be set on a copy of a slice from a DataFrame\n",
      "\n",
      "See the caveats in the documentation: https://pandas.pydata.org/pandas-docs/stable/user_guide/indexing.html#returning-a-view-versus-a-copy\n",
      "  test['out_loc_type_mean'][(test[a2] ==i) & (test[a1]==str(j))] = train['Item_Outlet_Sales'][(train[a2] == i) & (train[a1]==str(j))].mean()\n",
      "C:\\Users\\Vinnusss\\AppData\\Local\\Temp\\ipykernel_22648\\2737074418.py:3: SettingWithCopyWarning: \n",
      "A value is trying to be set on a copy of a slice from a DataFrame\n",
      "\n",
      "See the caveats in the documentation: https://pandas.pydata.org/pandas-docs/stable/user_guide/indexing.html#returning-a-view-versus-a-copy\n",
      "  test['out_loc_type_mean'][(test[a2] ==i) & (test[a1]==str(j))] = train['Item_Outlet_Sales'][(train[a2] == i) & (train[a1]==str(j))].mean()\n",
      "C:\\Users\\Vinnusss\\AppData\\Local\\Temp\\ipykernel_22648\\2737074418.py:3: SettingWithCopyWarning: \n",
      "A value is trying to be set on a copy of a slice from a DataFrame\n",
      "\n",
      "See the caveats in the documentation: https://pandas.pydata.org/pandas-docs/stable/user_guide/indexing.html#returning-a-view-versus-a-copy\n",
      "  test['out_loc_type_mean'][(test[a2] ==i) & (test[a1]==str(j))] = train['Item_Outlet_Sales'][(train[a2] == i) & (train[a1]==str(j))].mean()\n",
      "C:\\Users\\Vinnusss\\AppData\\Local\\Temp\\ipykernel_22648\\2737074418.py:3: SettingWithCopyWarning: \n",
      "A value is trying to be set on a copy of a slice from a DataFrame\n",
      "\n",
      "See the caveats in the documentation: https://pandas.pydata.org/pandas-docs/stable/user_guide/indexing.html#returning-a-view-versus-a-copy\n",
      "  test['out_loc_type_mean'][(test[a2] ==i) & (test[a1]==str(j))] = train['Item_Outlet_Sales'][(train[a2] == i) & (train[a1]==str(j))].mean()\n",
      "C:\\Users\\Vinnusss\\AppData\\Local\\Temp\\ipykernel_22648\\2737074418.py:3: SettingWithCopyWarning: \n",
      "A value is trying to be set on a copy of a slice from a DataFrame\n",
      "\n",
      "See the caveats in the documentation: https://pandas.pydata.org/pandas-docs/stable/user_guide/indexing.html#returning-a-view-versus-a-copy\n",
      "  test['out_loc_type_mean'][(test[a2] ==i) & (test[a1]==str(j))] = train['Item_Outlet_Sales'][(train[a2] == i) & (train[a1]==str(j))].mean()\n",
      "C:\\Users\\Vinnusss\\AppData\\Local\\Temp\\ipykernel_22648\\2737074418.py:3: SettingWithCopyWarning: \n",
      "A value is trying to be set on a copy of a slice from a DataFrame\n",
      "\n",
      "See the caveats in the documentation: https://pandas.pydata.org/pandas-docs/stable/user_guide/indexing.html#returning-a-view-versus-a-copy\n",
      "  test['out_loc_type_mean'][(test[a2] ==i) & (test[a1]==str(j))] = train['Item_Outlet_Sales'][(train[a2] == i) & (train[a1]==str(j))].mean()\n",
      "C:\\Users\\Vinnusss\\AppData\\Local\\Temp\\ipykernel_22648\\2737074418.py:3: SettingWithCopyWarning: \n",
      "A value is trying to be set on a copy of a slice from a DataFrame\n",
      "\n",
      "See the caveats in the documentation: https://pandas.pydata.org/pandas-docs/stable/user_guide/indexing.html#returning-a-view-versus-a-copy\n",
      "  test['out_loc_type_mean'][(test[a2] ==i) & (test[a1]==str(j))] = train['Item_Outlet_Sales'][(train[a2] == i) & (train[a1]==str(j))].mean()\n"
     ]
    }
   ],
   "source": [
    "for i in test[a2].unique():\n",
    "    for j in test[a1].unique():\n",
    "        test['out_loc_type_mean'][(test[a2] ==i) & (test[a1]==str(j))] = train['Item_Outlet_Sales'][(train[a2] == i) & (train[a1]==str(j))].mean()"
   ]
  },
  {
   "cell_type": "code",
   "execution_count": 58,
   "id": "c1a9dd75",
   "metadata": {},
   "outputs": [
    {
     "data": {
      "text/plain": [
       "1140.0522313200124"
      ]
     },
     "execution_count": 58,
     "metadata": {},
     "output_type": "execute_result"
    }
   ],
   "source": [
    "MAE(test['Item_Outlet_Sales'],test['out_loc_type_mean'])"
   ]
  },
  {
   "cell_type": "code",
   "execution_count": 59,
   "id": "6dc4ecc4",
   "metadata": {},
   "outputs": [
    {
     "data": {
      "text/html": [
       "<div>\n",
       "<style scoped>\n",
       "    .dataframe tbody tr th:only-of-type {\n",
       "        vertical-align: middle;\n",
       "    }\n",
       "\n",
       "    .dataframe tbody tr th {\n",
       "        vertical-align: top;\n",
       "    }\n",
       "\n",
       "    .dataframe thead th {\n",
       "        text-align: right;\n",
       "    }\n",
       "</style>\n",
       "<table border=\"1\" class=\"dataframe\">\n",
       "  <thead>\n",
       "    <tr style=\"text-align: right;\">\n",
       "      <th></th>\n",
       "      <th></th>\n",
       "      <th>Item_Outlet_Sales</th>\n",
       "    </tr>\n",
       "    <tr>\n",
       "      <th>Outlet_Location_Type</th>\n",
       "      <th>Outlet_Establishment_Year</th>\n",
       "      <th></th>\n",
       "    </tr>\n",
       "  </thead>\n",
       "  <tbody>\n",
       "    <tr>\n",
       "      <th rowspan=\"3\" valign=\"top\">Tier 1</th>\n",
       "      <th>1985</th>\n",
       "      <td>344.882031</td>\n",
       "    </tr>\n",
       "    <tr>\n",
       "      <th>1997</th>\n",
       "      <td>2200.803276</td>\n",
       "    </tr>\n",
       "    <tr>\n",
       "      <th>1999</th>\n",
       "      <td>2245.345807</td>\n",
       "    </tr>\n",
       "    <tr>\n",
       "      <th rowspan=\"3\" valign=\"top\">Tier 2</th>\n",
       "      <th>2002</th>\n",
       "      <td>2136.727766</td>\n",
       "    </tr>\n",
       "    <tr>\n",
       "      <th>2004</th>\n",
       "      <td>2415.594646</td>\n",
       "    </tr>\n",
       "    <tr>\n",
       "      <th>2007</th>\n",
       "      <td>2320.598343</td>\n",
       "    </tr>\n",
       "    <tr>\n",
       "      <th rowspan=\"4\" valign=\"top\">Tier 3</th>\n",
       "      <th>1985</th>\n",
       "      <td>3776.185098</td>\n",
       "    </tr>\n",
       "    <tr>\n",
       "      <th>1987</th>\n",
       "      <td>2160.883029</td>\n",
       "    </tr>\n",
       "    <tr>\n",
       "      <th>1998</th>\n",
       "      <td>320.792473</td>\n",
       "    </tr>\n",
       "    <tr>\n",
       "      <th>2009</th>\n",
       "      <td>1938.684847</td>\n",
       "    </tr>\n",
       "  </tbody>\n",
       "</table>\n",
       "</div>"
      ],
      "text/plain": [
       "                                                Item_Outlet_Sales\n",
       "Outlet_Location_Type Outlet_Establishment_Year                   \n",
       "Tier 1               1985                              344.882031\n",
       "                     1997                             2200.803276\n",
       "                     1999                             2245.345807\n",
       "Tier 2               2002                             2136.727766\n",
       "                     2004                             2415.594646\n",
       "                     2007                             2320.598343\n",
       "Tier 3               1985                             3776.185098\n",
       "                     1987                             2160.883029\n",
       "                     1998                              320.792473\n",
       "                     2009                             1938.684847"
      ]
     },
     "execution_count": 59,
     "metadata": {},
     "output_type": "execute_result"
    }
   ],
   "source": [
    "combo = pd.pivot_table(train, values = 'Item_Outlet_Sales', index = ['Outlet_Location_Type','Outlet_Establishment_Year'], aggfunc = np.mean)\n",
    "combo"
   ]
  },
  {
   "cell_type": "code",
   "execution_count": 60,
   "id": "8c35b61a",
   "metadata": {},
   "outputs": [
    {
     "name": "stderr",
     "output_type": "stream",
     "text": [
      "C:\\Users\\Vinnusss\\AppData\\Local\\Temp\\ipykernel_22648\\2245189796.py:2: SettingWithCopyWarning: \n",
      "A value is trying to be set on a copy of a slice from a DataFrame.\n",
      "Try using .loc[row_indexer,col_indexer] = value instead\n",
      "\n",
      "See the caveats in the documentation: https://pandas.pydata.org/pandas-docs/stable/user_guide/indexing.html#returning-a-view-versus-a-copy\n",
      "  test['Super_mean'] = 0\n",
      "C:\\Users\\Vinnusss\\AppData\\Local\\Temp\\ipykernel_22648\\2245189796.py:13: SettingWithCopyWarning: \n",
      "A value is trying to be set on a copy of a slice from a DataFrame\n",
      "\n",
      "See the caveats in the documentation: https://pandas.pydata.org/pandas-docs/stable/user_guide/indexing.html#returning-a-view-versus-a-copy\n",
      "  test['Super_mean'][(test[s1] == i) & (test[s2]==str(j))] = train['Item_Outlet_Sales'][(train[s1] == i) & (train[s2]==str(j))].mean()\n",
      "C:\\Users\\Vinnusss\\AppData\\Local\\Temp\\ipykernel_22648\\2245189796.py:13: SettingWithCopyWarning: \n",
      "A value is trying to be set on a copy of a slice from a DataFrame\n",
      "\n",
      "See the caveats in the documentation: https://pandas.pydata.org/pandas-docs/stable/user_guide/indexing.html#returning-a-view-versus-a-copy\n",
      "  test['Super_mean'][(test[s1] == i) & (test[s2]==str(j))] = train['Item_Outlet_Sales'][(train[s1] == i) & (train[s2]==str(j))].mean()\n",
      "C:\\Users\\Vinnusss\\AppData\\Local\\Temp\\ipykernel_22648\\2245189796.py:13: SettingWithCopyWarning: \n",
      "A value is trying to be set on a copy of a slice from a DataFrame\n",
      "\n",
      "See the caveats in the documentation: https://pandas.pydata.org/pandas-docs/stable/user_guide/indexing.html#returning-a-view-versus-a-copy\n",
      "  test['Super_mean'][(test[s1] == i) & (test[s2]==str(j))] = train['Item_Outlet_Sales'][(train[s1] == i) & (train[s2]==str(j))].mean()\n",
      "C:\\Users\\Vinnusss\\AppData\\Local\\Temp\\ipykernel_22648\\2245189796.py:13: SettingWithCopyWarning: \n",
      "A value is trying to be set on a copy of a slice from a DataFrame\n",
      "\n",
      "See the caveats in the documentation: https://pandas.pydata.org/pandas-docs/stable/user_guide/indexing.html#returning-a-view-versus-a-copy\n",
      "  test['Super_mean'][(test[s1] == i) & (test[s2]==str(j))] = train['Item_Outlet_Sales'][(train[s1] == i) & (train[s2]==str(j))].mean()\n",
      "C:\\Users\\Vinnusss\\AppData\\Local\\Temp\\ipykernel_22648\\2245189796.py:13: SettingWithCopyWarning: \n",
      "A value is trying to be set on a copy of a slice from a DataFrame\n",
      "\n",
      "See the caveats in the documentation: https://pandas.pydata.org/pandas-docs/stable/user_guide/indexing.html#returning-a-view-versus-a-copy\n",
      "  test['Super_mean'][(test[s1] == i) & (test[s2]==str(j))] = train['Item_Outlet_Sales'][(train[s1] == i) & (train[s2]==str(j))].mean()\n",
      "C:\\Users\\Vinnusss\\AppData\\Local\\Temp\\ipykernel_22648\\2245189796.py:13: SettingWithCopyWarning: \n",
      "A value is trying to be set on a copy of a slice from a DataFrame\n",
      "\n",
      "See the caveats in the documentation: https://pandas.pydata.org/pandas-docs/stable/user_guide/indexing.html#returning-a-view-versus-a-copy\n",
      "  test['Super_mean'][(test[s1] == i) & (test[s2]==str(j))] = train['Item_Outlet_Sales'][(train[s1] == i) & (train[s2]==str(j))].mean()\n",
      "C:\\Users\\Vinnusss\\AppData\\Local\\Temp\\ipykernel_22648\\2245189796.py:13: SettingWithCopyWarning: \n",
      "A value is trying to be set on a copy of a slice from a DataFrame\n",
      "\n",
      "See the caveats in the documentation: https://pandas.pydata.org/pandas-docs/stable/user_guide/indexing.html#returning-a-view-versus-a-copy\n",
      "  test['Super_mean'][(test[s1] == i) & (test[s2]==str(j))] = train['Item_Outlet_Sales'][(train[s1] == i) & (train[s2]==str(j))].mean()\n",
      "C:\\Users\\Vinnusss\\AppData\\Local\\Temp\\ipykernel_22648\\2245189796.py:13: SettingWithCopyWarning: \n",
      "A value is trying to be set on a copy of a slice from a DataFrame\n",
      "\n",
      "See the caveats in the documentation: https://pandas.pydata.org/pandas-docs/stable/user_guide/indexing.html#returning-a-view-versus-a-copy\n",
      "  test['Super_mean'][(test[s1] == i) & (test[s2]==str(j))] = train['Item_Outlet_Sales'][(train[s1] == i) & (train[s2]==str(j))].mean()\n",
      "C:\\Users\\Vinnusss\\AppData\\Local\\Temp\\ipykernel_22648\\2245189796.py:13: SettingWithCopyWarning: \n",
      "A value is trying to be set on a copy of a slice from a DataFrame\n",
      "\n",
      "See the caveats in the documentation: https://pandas.pydata.org/pandas-docs/stable/user_guide/indexing.html#returning-a-view-versus-a-copy\n",
      "  test['Super_mean'][(test[s1] == i) & (test[s2]==str(j))] = train['Item_Outlet_Sales'][(train[s1] == i) & (train[s2]==str(j))].mean()\n",
      "C:\\Users\\Vinnusss\\AppData\\Local\\Temp\\ipykernel_22648\\2245189796.py:13: SettingWithCopyWarning: \n",
      "A value is trying to be set on a copy of a slice from a DataFrame\n",
      "\n",
      "See the caveats in the documentation: https://pandas.pydata.org/pandas-docs/stable/user_guide/indexing.html#returning-a-view-versus-a-copy\n",
      "  test['Super_mean'][(test[s1] == i) & (test[s2]==str(j))] = train['Item_Outlet_Sales'][(train[s1] == i) & (train[s2]==str(j))].mean()\n",
      "C:\\Users\\Vinnusss\\AppData\\Local\\Temp\\ipykernel_22648\\2245189796.py:13: SettingWithCopyWarning: \n",
      "A value is trying to be set on a copy of a slice from a DataFrame\n",
      "\n",
      "See the caveats in the documentation: https://pandas.pydata.org/pandas-docs/stable/user_guide/indexing.html#returning-a-view-versus-a-copy\n",
      "  test['Super_mean'][(test[s1] == i) & (test[s2]==str(j))] = train['Item_Outlet_Sales'][(train[s1] == i) & (train[s2]==str(j))].mean()\n",
      "C:\\Users\\Vinnusss\\AppData\\Local\\Temp\\ipykernel_22648\\2245189796.py:13: SettingWithCopyWarning: \n",
      "A value is trying to be set on a copy of a slice from a DataFrame\n",
      "\n",
      "See the caveats in the documentation: https://pandas.pydata.org/pandas-docs/stable/user_guide/indexing.html#returning-a-view-versus-a-copy\n",
      "  test['Super_mean'][(test[s1] == i) & (test[s2]==str(j))] = train['Item_Outlet_Sales'][(train[s1] == i) & (train[s2]==str(j))].mean()\n",
      "C:\\Users\\Vinnusss\\AppData\\Local\\Temp\\ipykernel_22648\\2245189796.py:13: SettingWithCopyWarning: \n",
      "A value is trying to be set on a copy of a slice from a DataFrame\n",
      "\n",
      "See the caveats in the documentation: https://pandas.pydata.org/pandas-docs/stable/user_guide/indexing.html#returning-a-view-versus-a-copy\n",
      "  test['Super_mean'][(test[s1] == i) & (test[s2]==str(j))] = train['Item_Outlet_Sales'][(train[s1] == i) & (train[s2]==str(j))].mean()\n",
      "C:\\Users\\Vinnusss\\AppData\\Local\\Temp\\ipykernel_22648\\2245189796.py:13: SettingWithCopyWarning: \n",
      "A value is trying to be set on a copy of a slice from a DataFrame\n",
      "\n",
      "See the caveats in the documentation: https://pandas.pydata.org/pandas-docs/stable/user_guide/indexing.html#returning-a-view-versus-a-copy\n",
      "  test['Super_mean'][(test[s1] == i) & (test[s2]==str(j))] = train['Item_Outlet_Sales'][(train[s1] == i) & (train[s2]==str(j))].mean()\n",
      "C:\\Users\\Vinnusss\\AppData\\Local\\Temp\\ipykernel_22648\\2245189796.py:13: SettingWithCopyWarning: \n",
      "A value is trying to be set on a copy of a slice from a DataFrame\n",
      "\n",
      "See the caveats in the documentation: https://pandas.pydata.org/pandas-docs/stable/user_guide/indexing.html#returning-a-view-versus-a-copy\n",
      "  test['Super_mean'][(test[s1] == i) & (test[s2]==str(j))] = train['Item_Outlet_Sales'][(train[s1] == i) & (train[s2]==str(j))].mean()\n",
      "C:\\Users\\Vinnusss\\AppData\\Local\\Temp\\ipykernel_22648\\2245189796.py:13: SettingWithCopyWarning: \n",
      "A value is trying to be set on a copy of a slice from a DataFrame\n",
      "\n",
      "See the caveats in the documentation: https://pandas.pydata.org/pandas-docs/stable/user_guide/indexing.html#returning-a-view-versus-a-copy\n",
      "  test['Super_mean'][(test[s1] == i) & (test[s2]==str(j))] = train['Item_Outlet_Sales'][(train[s1] == i) & (train[s2]==str(j))].mean()\n",
      "C:\\Users\\Vinnusss\\AppData\\Local\\Temp\\ipykernel_22648\\2245189796.py:13: SettingWithCopyWarning: \n",
      "A value is trying to be set on a copy of a slice from a DataFrame\n",
      "\n",
      "See the caveats in the documentation: https://pandas.pydata.org/pandas-docs/stable/user_guide/indexing.html#returning-a-view-versus-a-copy\n",
      "  test['Super_mean'][(test[s1] == i) & (test[s2]==str(j))] = train['Item_Outlet_Sales'][(train[s1] == i) & (train[s2]==str(j))].mean()\n",
      "C:\\Users\\Vinnusss\\AppData\\Local\\Temp\\ipykernel_22648\\2245189796.py:13: SettingWithCopyWarning: \n",
      "A value is trying to be set on a copy of a slice from a DataFrame\n",
      "\n",
      "See the caveats in the documentation: https://pandas.pydata.org/pandas-docs/stable/user_guide/indexing.html#returning-a-view-versus-a-copy\n",
      "  test['Super_mean'][(test[s1] == i) & (test[s2]==str(j))] = train['Item_Outlet_Sales'][(train[s1] == i) & (train[s2]==str(j))].mean()\n",
      "C:\\Users\\Vinnusss\\AppData\\Local\\Temp\\ipykernel_22648\\2245189796.py:13: SettingWithCopyWarning: \n",
      "A value is trying to be set on a copy of a slice from a DataFrame\n",
      "\n",
      "See the caveats in the documentation: https://pandas.pydata.org/pandas-docs/stable/user_guide/indexing.html#returning-a-view-versus-a-copy\n",
      "  test['Super_mean'][(test[s1] == i) & (test[s2]==str(j))] = train['Item_Outlet_Sales'][(train[s1] == i) & (train[s2]==str(j))].mean()\n",
      "C:\\Users\\Vinnusss\\AppData\\Local\\Temp\\ipykernel_22648\\2245189796.py:13: SettingWithCopyWarning: \n",
      "A value is trying to be set on a copy of a slice from a DataFrame\n",
      "\n",
      "See the caveats in the documentation: https://pandas.pydata.org/pandas-docs/stable/user_guide/indexing.html#returning-a-view-versus-a-copy\n",
      "  test['Super_mean'][(test[s1] == i) & (test[s2]==str(j))] = train['Item_Outlet_Sales'][(train[s1] == i) & (train[s2]==str(j))].mean()\n",
      "C:\\Users\\Vinnusss\\AppData\\Local\\Temp\\ipykernel_22648\\2245189796.py:13: SettingWithCopyWarning: \n",
      "A value is trying to be set on a copy of a slice from a DataFrame\n",
      "\n",
      "See the caveats in the documentation: https://pandas.pydata.org/pandas-docs/stable/user_guide/indexing.html#returning-a-view-versus-a-copy\n",
      "  test['Super_mean'][(test[s1] == i) & (test[s2]==str(j))] = train['Item_Outlet_Sales'][(train[s1] == i) & (train[s2]==str(j))].mean()\n",
      "C:\\Users\\Vinnusss\\AppData\\Local\\Temp\\ipykernel_22648\\2245189796.py:13: SettingWithCopyWarning: \n",
      "A value is trying to be set on a copy of a slice from a DataFrame\n",
      "\n",
      "See the caveats in the documentation: https://pandas.pydata.org/pandas-docs/stable/user_guide/indexing.html#returning-a-view-versus-a-copy\n",
      "  test['Super_mean'][(test[s1] == i) & (test[s2]==str(j))] = train['Item_Outlet_Sales'][(train[s1] == i) & (train[s2]==str(j))].mean()\n",
      "C:\\Users\\Vinnusss\\AppData\\Local\\Temp\\ipykernel_22648\\2245189796.py:13: SettingWithCopyWarning: \n",
      "A value is trying to be set on a copy of a slice from a DataFrame\n",
      "\n",
      "See the caveats in the documentation: https://pandas.pydata.org/pandas-docs/stable/user_guide/indexing.html#returning-a-view-versus-a-copy\n",
      "  test['Super_mean'][(test[s1] == i) & (test[s2]==str(j))] = train['Item_Outlet_Sales'][(train[s1] == i) & (train[s2]==str(j))].mean()\n",
      "C:\\Users\\Vinnusss\\AppData\\Local\\Temp\\ipykernel_22648\\2245189796.py:13: SettingWithCopyWarning: \n",
      "A value is trying to be set on a copy of a slice from a DataFrame\n",
      "\n",
      "See the caveats in the documentation: https://pandas.pydata.org/pandas-docs/stable/user_guide/indexing.html#returning-a-view-versus-a-copy\n",
      "  test['Super_mean'][(test[s1] == i) & (test[s2]==str(j))] = train['Item_Outlet_Sales'][(train[s1] == i) & (train[s2]==str(j))].mean()\n",
      "C:\\Users\\Vinnusss\\AppData\\Local\\Temp\\ipykernel_22648\\2245189796.py:13: SettingWithCopyWarning: \n",
      "A value is trying to be set on a copy of a slice from a DataFrame\n",
      "\n",
      "See the caveats in the documentation: https://pandas.pydata.org/pandas-docs/stable/user_guide/indexing.html#returning-a-view-versus-a-copy\n",
      "  test['Super_mean'][(test[s1] == i) & (test[s2]==str(j))] = train['Item_Outlet_Sales'][(train[s1] == i) & (train[s2]==str(j))].mean()\n",
      "C:\\Users\\Vinnusss\\AppData\\Local\\Temp\\ipykernel_22648\\2245189796.py:13: SettingWithCopyWarning: \n",
      "A value is trying to be set on a copy of a slice from a DataFrame\n",
      "\n",
      "See the caveats in the documentation: https://pandas.pydata.org/pandas-docs/stable/user_guide/indexing.html#returning-a-view-versus-a-copy\n",
      "  test['Super_mean'][(test[s1] == i) & (test[s2]==str(j))] = train['Item_Outlet_Sales'][(train[s1] == i) & (train[s2]==str(j))].mean()\n",
      "C:\\Users\\Vinnusss\\AppData\\Local\\Temp\\ipykernel_22648\\2245189796.py:13: SettingWithCopyWarning: \n",
      "A value is trying to be set on a copy of a slice from a DataFrame\n",
      "\n",
      "See the caveats in the documentation: https://pandas.pydata.org/pandas-docs/stable/user_guide/indexing.html#returning-a-view-versus-a-copy\n",
      "  test['Super_mean'][(test[s1] == i) & (test[s2]==str(j))] = train['Item_Outlet_Sales'][(train[s1] == i) & (train[s2]==str(j))].mean()\n",
      "C:\\Users\\Vinnusss\\AppData\\Local\\Temp\\ipykernel_22648\\2245189796.py:13: SettingWithCopyWarning: \n",
      "A value is trying to be set on a copy of a slice from a DataFrame\n",
      "\n",
      "See the caveats in the documentation: https://pandas.pydata.org/pandas-docs/stable/user_guide/indexing.html#returning-a-view-versus-a-copy\n",
      "  test['Super_mean'][(test[s1] == i) & (test[s2]==str(j))] = train['Item_Outlet_Sales'][(train[s1] == i) & (train[s2]==str(j))].mean()\n"
     ]
    }
   ],
   "source": [
    "# Initiating new empty column\n",
    "test['Super_mean'] = 0\n",
    "\n",
    "# Assigning variables to strings ( to shorten code length)\n",
    "s2 = 'Outlet_Location_Type'\n",
    "s1 = 'Outlet_Establishment_Year'\n",
    "\n",
    "# For every Unique Value in s1\n",
    "for i in test[s1].unique():\n",
    "  # For every Unique Value in s2\n",
    "  for j in test[s2].unique():\n",
    "    # Calculate and Assign mean to new column, corresponding to both unique values of s1 and s2 simultaneously\n",
    "    test['Super_mean'][(test[s1] == i) & (test[s2]==str(j))] = train['Item_Outlet_Sales'][(train[s1] == i) & (train[s2]==str(j))].mean()"
   ]
  },
  {
   "cell_type": "code",
   "execution_count": 61,
   "id": "b7d5c03e",
   "metadata": {},
   "outputs": [
    {
     "data": {
      "text/plain": [
       "1140.0522313200124"
      ]
     },
     "execution_count": 61,
     "metadata": {},
     "output_type": "execute_result"
    }
   ],
   "source": [
    "MAE(test['Item_Outlet_Sales'] , test['Super_mean'] )"
   ]
  },
  {
   "cell_type": "code",
   "execution_count": null,
   "id": "4369ab12",
   "metadata": {},
   "outputs": [],
   "source": []
  },
  {
   "cell_type": "code",
   "execution_count": null,
   "id": "1a1895ce",
   "metadata": {},
   "outputs": [],
   "source": []
  }
 ],
 "metadata": {
  "kernelspec": {
   "display_name": "Python 3 (ipykernel)",
   "language": "python",
   "name": "python3"
  },
  "language_info": {
   "codemirror_mode": {
    "name": "ipython",
    "version": 3
   },
   "file_extension": ".py",
   "mimetype": "text/x-python",
   "name": "python",
   "nbconvert_exporter": "python",
   "pygments_lexer": "ipython3",
   "version": "3.9.13"
  }
 },
 "nbformat": 4,
 "nbformat_minor": 5
}
